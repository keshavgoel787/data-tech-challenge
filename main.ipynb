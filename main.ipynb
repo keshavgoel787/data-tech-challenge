{
 "cells": [
  {
   "cell_type": "code",
   "execution_count": null,
   "id": "ab4df9c0",
   "metadata": {},
   "outputs": [],
   "source": [
    "import pandas as pd\n",
    "import numpy as np\n",
    "import matplotlib.pyplot as plt\n",
    "import seaborn as sns"
   ]
  },
  {
   "cell_type": "code",
   "execution_count": 16,
   "id": "ca8c0120",
   "metadata": {},
   "outputs": [
    {
     "name": "stdout",
     "output_type": "stream",
     "text": [
      "Shape: (9999, 15)\n"
     ]
    },
    {
     "data": {
      "text/html": [
       "<div>\n",
       "<style scoped>\n",
       "    .dataframe tbody tr th:only-of-type {\n",
       "        vertical-align: middle;\n",
       "    }\n",
       "\n",
       "    .dataframe tbody tr th {\n",
       "        vertical-align: top;\n",
       "    }\n",
       "\n",
       "    .dataframe thead th {\n",
       "        text-align: right;\n",
       "    }\n",
       "</style>\n",
       "<table border=\"1\" class=\"dataframe\">\n",
       "  <thead>\n",
       "    <tr style=\"text-align: right;\">\n",
       "      <th></th>\n",
       "      <th>Month</th>\n",
       "      <th>AustralianPort</th>\n",
       "      <th>ForeignPort</th>\n",
       "      <th>Country</th>\n",
       "      <th>Passengers_In</th>\n",
       "      <th>Freight_In_(tonnes)</th>\n",
       "      <th>Mail_In_(tonnes)</th>\n",
       "      <th>Passengers_Out</th>\n",
       "      <th>Freight_Out_(tonnes)</th>\n",
       "      <th>Mail_Out_(tonnes)</th>\n",
       "      <th>Passengers_Total</th>\n",
       "      <th>Freight_Total_(tonnes)</th>\n",
       "      <th>Mail_Total_(tonnes)</th>\n",
       "      <th>Year</th>\n",
       "      <th>Month_num</th>\n",
       "    </tr>\n",
       "  </thead>\n",
       "  <tbody>\n",
       "    <tr>\n",
       "      <th>0</th>\n",
       "      <td>Jan-85</td>\n",
       "      <td>Adelaide</td>\n",
       "      <td>Auckland</td>\n",
       "      <td>New Zealand</td>\n",
       "      <td>1513</td>\n",
       "      <td>42.167</td>\n",
       "      <td>0.311</td>\n",
       "      <td>985</td>\n",
       "      <td>18.704</td>\n",
       "      <td>0.924</td>\n",
       "      <td>2498</td>\n",
       "      <td>60.871</td>\n",
       "      <td>1.235</td>\n",
       "      <td>1985</td>\n",
       "      <td>1</td>\n",
       "    </tr>\n",
       "    <tr>\n",
       "      <th>1</th>\n",
       "      <td>Jan-85</td>\n",
       "      <td>Adelaide</td>\n",
       "      <td>Bahrain</td>\n",
       "      <td>Bahrain</td>\n",
       "      <td>12</td>\n",
       "      <td>0.000</td>\n",
       "      <td>0.000</td>\n",
       "      <td>5</td>\n",
       "      <td>0.033</td>\n",
       "      <td>0.000</td>\n",
       "      <td>17</td>\n",
       "      <td>0.033</td>\n",
       "      <td>0.000</td>\n",
       "      <td>1985</td>\n",
       "      <td>1</td>\n",
       "    </tr>\n",
       "    <tr>\n",
       "      <th>2</th>\n",
       "      <td>Jan-85</td>\n",
       "      <td>Adelaide</td>\n",
       "      <td>Bombay</td>\n",
       "      <td>India</td>\n",
       "      <td>7</td>\n",
       "      <td>0.000</td>\n",
       "      <td>0.000</td>\n",
       "      <td>5</td>\n",
       "      <td>0.000</td>\n",
       "      <td>0.000</td>\n",
       "      <td>12</td>\n",
       "      <td>0.000</td>\n",
       "      <td>0.000</td>\n",
       "      <td>1985</td>\n",
       "      <td>1</td>\n",
       "    </tr>\n",
       "    <tr>\n",
       "      <th>3</th>\n",
       "      <td>Jan-85</td>\n",
       "      <td>Adelaide</td>\n",
       "      <td>Frankfurt</td>\n",
       "      <td>Germany</td>\n",
       "      <td>115</td>\n",
       "      <td>0.009</td>\n",
       "      <td>0.000</td>\n",
       "      <td>171</td>\n",
       "      <td>0.000</td>\n",
       "      <td>0.248</td>\n",
       "      <td>286</td>\n",
       "      <td>0.009</td>\n",
       "      <td>0.248</td>\n",
       "      <td>1985</td>\n",
       "      <td>1</td>\n",
       "    </tr>\n",
       "    <tr>\n",
       "      <th>4</th>\n",
       "      <td>Jan-85</td>\n",
       "      <td>Adelaide</td>\n",
       "      <td>London</td>\n",
       "      <td>UK</td>\n",
       "      <td>1567</td>\n",
       "      <td>2.800</td>\n",
       "      <td>0.000</td>\n",
       "      <td>1472</td>\n",
       "      <td>10.618</td>\n",
       "      <td>2.487</td>\n",
       "      <td>3039</td>\n",
       "      <td>13.418</td>\n",
       "      <td>2.487</td>\n",
       "      <td>1985</td>\n",
       "      <td>1</td>\n",
       "    </tr>\n",
       "  </tbody>\n",
       "</table>\n",
       "</div>"
      ],
      "text/plain": [
       "    Month AustralianPort ForeignPort      Country  Passengers_In  \\\n",
       "0  Jan-85       Adelaide    Auckland  New Zealand           1513   \n",
       "1  Jan-85       Adelaide     Bahrain      Bahrain             12   \n",
       "2  Jan-85       Adelaide      Bombay        India              7   \n",
       "3  Jan-85       Adelaide   Frankfurt      Germany            115   \n",
       "4  Jan-85       Adelaide      London           UK           1567   \n",
       "\n",
       "   Freight_In_(tonnes)  Mail_In_(tonnes)  Passengers_Out  \\\n",
       "0               42.167             0.311             985   \n",
       "1                0.000             0.000               5   \n",
       "2                0.000             0.000               5   \n",
       "3                0.009             0.000             171   \n",
       "4                2.800             0.000            1472   \n",
       "\n",
       "   Freight_Out_(tonnes)  Mail_Out_(tonnes)  Passengers_Total  \\\n",
       "0                18.704              0.924              2498   \n",
       "1                 0.033              0.000                17   \n",
       "2                 0.000              0.000                12   \n",
       "3                 0.000              0.248               286   \n",
       "4                10.618              2.487              3039   \n",
       "\n",
       "   Freight_Total_(tonnes)  Mail_Total_(tonnes)  Year  Month_num  \n",
       "0                  60.871                1.235  1985          1  \n",
       "1                   0.033                0.000  1985          1  \n",
       "2                   0.000                0.000  1985          1  \n",
       "3                   0.009                0.248  1985          1  \n",
       "4                  13.418                2.487  1985          1  "
      ]
     },
     "execution_count": 16,
     "metadata": {},
     "output_type": "execute_result"
    }
   ],
   "source": [
    "#Ingesting data and printing out head to get better understanding of structure\n",
    "data = pd.read_csv('csv.csv')\n",
    "print(\"Shape:\", data.shape)\n",
    "data.head(5)"
   ]
  },
  {
   "cell_type": "code",
   "execution_count": 17,
   "id": "7a85b8ae",
   "metadata": {},
   "outputs": [
    {
     "name": "stdout",
     "output_type": "stream",
     "text": [
      "<class 'pandas.core.frame.DataFrame'>\n",
      "RangeIndex: 9999 entries, 0 to 9998\n",
      "Data columns (total 15 columns):\n",
      " #   Column                  Non-Null Count  Dtype  \n",
      "---  ------                  --------------  -----  \n",
      " 0   Month                   9999 non-null   object \n",
      " 1   AustralianPort          9999 non-null   object \n",
      " 2   ForeignPort             9999 non-null   object \n",
      " 3   Country                 9999 non-null   object \n",
      " 4   Passengers_In           9999 non-null   int64  \n",
      " 5   Freight_In_(tonnes)     9999 non-null   float64\n",
      " 6   Mail_In_(tonnes)        9999 non-null   float64\n",
      " 7   Passengers_Out          9999 non-null   int64  \n",
      " 8   Freight_Out_(tonnes)    9999 non-null   float64\n",
      " 9   Mail_Out_(tonnes)       9999 non-null   float64\n",
      " 10  Passengers_Total        9999 non-null   int64  \n",
      " 11  Freight_Total_(tonnes)  9999 non-null   float64\n",
      " 12  Mail_Total_(tonnes)     9999 non-null   float64\n",
      " 13  Year                    9999 non-null   int64  \n",
      " 14  Month_num               9999 non-null   int64  \n",
      "dtypes: float64(6), int64(5), object(4)\n",
      "memory usage: 1.1+ MB\n"
     ]
    }
   ],
   "source": [
    "#Quick check to see if there are any Null values and get a sense of what the data types are\n",
    "data.info()"
   ]
  },
  {
   "cell_type": "code",
   "execution_count": 18,
   "id": "bb12ba14",
   "metadata": {},
   "outputs": [
    {
     "name": "stdout",
     "output_type": "stream",
     "text": [
      "Total unique routes: 306\n"
     ]
    }
   ],
   "source": [
    "data['Route'] = data['AustralianPort'] + \" - \" + data['ForeignPort']\n",
    "print(\"Total unique routes:\", data['Route'].nunique())"
   ]
  },
  {
   "cell_type": "code",
   "execution_count": 19,
   "id": "44506149",
   "metadata": {},
   "outputs": [],
   "source": [
    "data['Date'] = pd.to_datetime(data['Year'].astype(str) + '-' + data['Month_num'].astype(str), format=\"%Y-%m\")"
   ]
  },
  {
   "cell_type": "code",
   "execution_count": 22,
   "id": "aefc9e19",
   "metadata": {},
   "outputs": [],
   "source": [
    "data = data[['Date', 'AustralianPort', 'ForeignPort', 'Country', 'Route',\n",
    "         'Passengers_In', 'Passengers_Out', 'Passengers_Total',\n",
    "         'Freight_In_(tonnes)', 'Freight_Out_(tonnes)', 'Freight_Total_(tonnes)',\n",
    "         'Mail_In_(tonnes)', 'Mail_Out_(tonnes)', 'Mail_Total_(tonnes)']]\n"
   ]
  },
  {
   "cell_type": "code",
   "execution_count": 23,
   "id": "3f08ba79",
   "metadata": {},
   "outputs": [
    {
     "data": {
      "text/html": [
       "<div>\n",
       "<style scoped>\n",
       "    .dataframe tbody tr th:only-of-type {\n",
       "        vertical-align: middle;\n",
       "    }\n",
       "\n",
       "    .dataframe tbody tr th {\n",
       "        vertical-align: top;\n",
       "    }\n",
       "\n",
       "    .dataframe thead th {\n",
       "        text-align: right;\n",
       "    }\n",
       "</style>\n",
       "<table border=\"1\" class=\"dataframe\">\n",
       "  <thead>\n",
       "    <tr style=\"text-align: right;\">\n",
       "      <th></th>\n",
       "      <th>Date</th>\n",
       "      <th>AustralianPort</th>\n",
       "      <th>ForeignPort</th>\n",
       "      <th>Country</th>\n",
       "      <th>Route</th>\n",
       "      <th>Passengers_In</th>\n",
       "      <th>Passengers_Out</th>\n",
       "      <th>Passengers_Total</th>\n",
       "      <th>Freight_In_(tonnes)</th>\n",
       "      <th>Freight_Out_(tonnes)</th>\n",
       "      <th>Freight_Total_(tonnes)</th>\n",
       "      <th>Mail_In_(tonnes)</th>\n",
       "      <th>Mail_Out_(tonnes)</th>\n",
       "      <th>Mail_Total_(tonnes)</th>\n",
       "    </tr>\n",
       "  </thead>\n",
       "  <tbody>\n",
       "    <tr>\n",
       "      <th>0</th>\n",
       "      <td>1985-01-01</td>\n",
       "      <td>Adelaide</td>\n",
       "      <td>Auckland</td>\n",
       "      <td>New Zealand</td>\n",
       "      <td>Adelaide - Auckland</td>\n",
       "      <td>1513</td>\n",
       "      <td>985</td>\n",
       "      <td>2498</td>\n",
       "      <td>42.167</td>\n",
       "      <td>18.704</td>\n",
       "      <td>60.871</td>\n",
       "      <td>0.311</td>\n",
       "      <td>0.924</td>\n",
       "      <td>1.235</td>\n",
       "    </tr>\n",
       "    <tr>\n",
       "      <th>1</th>\n",
       "      <td>1985-01-01</td>\n",
       "      <td>Adelaide</td>\n",
       "      <td>Bahrain</td>\n",
       "      <td>Bahrain</td>\n",
       "      <td>Adelaide - Bahrain</td>\n",
       "      <td>12</td>\n",
       "      <td>5</td>\n",
       "      <td>17</td>\n",
       "      <td>0.000</td>\n",
       "      <td>0.033</td>\n",
       "      <td>0.033</td>\n",
       "      <td>0.000</td>\n",
       "      <td>0.000</td>\n",
       "      <td>0.000</td>\n",
       "    </tr>\n",
       "    <tr>\n",
       "      <th>2</th>\n",
       "      <td>1985-01-01</td>\n",
       "      <td>Adelaide</td>\n",
       "      <td>Bombay</td>\n",
       "      <td>India</td>\n",
       "      <td>Adelaide - Bombay</td>\n",
       "      <td>7</td>\n",
       "      <td>5</td>\n",
       "      <td>12</td>\n",
       "      <td>0.000</td>\n",
       "      <td>0.000</td>\n",
       "      <td>0.000</td>\n",
       "      <td>0.000</td>\n",
       "      <td>0.000</td>\n",
       "      <td>0.000</td>\n",
       "    </tr>\n",
       "    <tr>\n",
       "      <th>3</th>\n",
       "      <td>1985-01-01</td>\n",
       "      <td>Adelaide</td>\n",
       "      <td>Frankfurt</td>\n",
       "      <td>Germany</td>\n",
       "      <td>Adelaide - Frankfurt</td>\n",
       "      <td>115</td>\n",
       "      <td>171</td>\n",
       "      <td>286</td>\n",
       "      <td>0.009</td>\n",
       "      <td>0.000</td>\n",
       "      <td>0.009</td>\n",
       "      <td>0.000</td>\n",
       "      <td>0.248</td>\n",
       "      <td>0.248</td>\n",
       "    </tr>\n",
       "    <tr>\n",
       "      <th>4</th>\n",
       "      <td>1985-01-01</td>\n",
       "      <td>Adelaide</td>\n",
       "      <td>London</td>\n",
       "      <td>UK</td>\n",
       "      <td>Adelaide - London</td>\n",
       "      <td>1567</td>\n",
       "      <td>1472</td>\n",
       "      <td>3039</td>\n",
       "      <td>2.800</td>\n",
       "      <td>10.618</td>\n",
       "      <td>13.418</td>\n",
       "      <td>0.000</td>\n",
       "      <td>2.487</td>\n",
       "      <td>2.487</td>\n",
       "    </tr>\n",
       "  </tbody>\n",
       "</table>\n",
       "</div>"
      ],
      "text/plain": [
       "        Date AustralianPort ForeignPort      Country                 Route  \\\n",
       "0 1985-01-01       Adelaide    Auckland  New Zealand   Adelaide - Auckland   \n",
       "1 1985-01-01       Adelaide     Bahrain      Bahrain    Adelaide - Bahrain   \n",
       "2 1985-01-01       Adelaide      Bombay        India     Adelaide - Bombay   \n",
       "3 1985-01-01       Adelaide   Frankfurt      Germany  Adelaide - Frankfurt   \n",
       "4 1985-01-01       Adelaide      London           UK     Adelaide - London   \n",
       "\n",
       "   Passengers_In  Passengers_Out  Passengers_Total  Freight_In_(tonnes)  \\\n",
       "0           1513             985              2498               42.167   \n",
       "1             12               5                17                0.000   \n",
       "2              7               5                12                0.000   \n",
       "3            115             171               286                0.009   \n",
       "4           1567            1472              3039                2.800   \n",
       "\n",
       "   Freight_Out_(tonnes)  Freight_Total_(tonnes)  Mail_In_(tonnes)  \\\n",
       "0                18.704                  60.871             0.311   \n",
       "1                 0.033                   0.033             0.000   \n",
       "2                 0.000                   0.000             0.000   \n",
       "3                 0.000                   0.009             0.000   \n",
       "4                10.618                  13.418             0.000   \n",
       "\n",
       "   Mail_Out_(tonnes)  Mail_Total_(tonnes)  \n",
       "0              0.924                1.235  \n",
       "1              0.000                0.000  \n",
       "2              0.000                0.000  \n",
       "3              0.248                0.248  \n",
       "4              2.487                2.487  "
      ]
     },
     "execution_count": 23,
     "metadata": {},
     "output_type": "execute_result"
    }
   ],
   "source": [
    "data.head(5)"
   ]
  },
  {
   "cell_type": "code",
   "execution_count": 24,
   "id": "e49a5c0b",
   "metadata": {},
   "outputs": [
    {
     "data": {
      "text/plain": [
       "0"
      ]
     },
     "execution_count": 24,
     "metadata": {},
     "output_type": "execute_result"
    }
   ],
   "source": [
    "duplicate_rows = data[data.duplicated()]\n",
    "len(duplicate_rows)"
   ]
  },
  {
   "cell_type": "code",
   "execution_count": 26,
   "id": "3fc439b6",
   "metadata": {},
   "outputs": [
    {
     "name": "stdout",
     "output_type": "stream",
     "text": [
      "Invalid passenger rows: 44\n"
     ]
    }
   ],
   "source": [
    "invalid_passenger_rows = data[(data['Passengers_Total'] <= 0) | \n",
    "                            (data['Passengers_In'] < 0) | \n",
    "                            (data['Passengers_Out'] < 0)]\n",
    "\n",
    "print(f\"Invalid passenger rows: {len(invalid_passenger_rows)}\")\n"
   ]
  },
  {
   "cell_type": "code",
   "execution_count": null,
   "id": "c16ec371",
   "metadata": {},
   "outputs": [
    {
     "name": "stdout",
     "output_type": "stream",
     "text": [
      "Unique Australian ports: ['Adelaide' 'Brisbane' 'Cairns' 'Darwin' 'Hobart' 'Melbourne'\n",
      " 'Norfolk Island' 'Perth' 'Port Hedland' 'Sydney' 'Townsville']\n",
      "Unique Foreign ports: ['Auckland' 'Bahrain' 'Bombay' 'Frankfurt' 'London' 'Muscat' 'Rome'\n",
      " 'Singapore' 'Abu Dhabi' 'Bangkok' 'Christchurch' 'Hong Kong' 'Honiara'\n",
      " 'Honolulu' 'Kuala Lumpur' 'Los Angeles' 'Manila' 'Nadi' 'Noumea'\n",
      " 'Port Moresby' 'Port Vila' 'San Francisco' 'Suva' 'Tokyo' 'Vancouver'\n",
      " 'Wellington' 'Bandar Seri Begawan' 'Denpasar' 'Jakarta' 'Amsterdam'\n",
      " 'Athens' 'Beijing' 'Belgrade' 'Colombo' 'Dubai' 'Houston' 'Larnaca'\n",
      " 'Manchester' 'Mauritius' 'Nauru' 'New York' 'Papeete' 'Harare'\n",
      " 'Johannesburg' 'Apia' 'Guangzhou' 'Paris' 'Copenhagen' 'Seattle'\n",
      " 'Ljubljana' 'Zagreb' 'Kupang' 'Denver' 'Toronto' 'Rarotonga' 'New Delhi'\n",
      " 'Nagoya' 'Dunedin' 'Pago Pago' 'Vienna' 'Kieta' 'Buenos Aires' 'Chicago'\n",
      " 'Guam' 'Fukuoka' 'Malta']\n"
     ]
    }
   ],
   "source": [
    "# Check unique values\n",
    "print(\"Unique Australian ports:\", data['AustralianPort'].unique())\n",
    "print(\"Unique Foreign ports:\", data['ForeignPort'].unique())\n",
    "\n",
    "# Standardize casing\n",
    "data['AustralianPort'] = data['AustralianPort'].str.title().str.strip()\n",
    "data['ForeignPort'] = data['ForeignPort'].str.title().str.strip()\n",
    "data['Country'] = data['Country'].str.title().str.strip()\n",
    "\n"
   ]
  },
  {
   "cell_type": "code",
   "execution_count": null,
   "id": "32873445",
   "metadata": {},
   "outputs": [
    {
     "ename": "NameError",
     "evalue": "name 'df' is not defined",
     "output_type": "error",
     "traceback": [
      "\u001b[0;31m---------------------------------------------------------------------------\u001b[0m",
      "\u001b[0;31mNameError\u001b[0m                                 Traceback (most recent call last)",
      "Cell \u001b[0;32mIn[28], line 2\u001b[0m\n\u001b[1;32m      1\u001b[0m \u001b[38;5;66;03m# Total passenger traffic by route\u001b[39;00m\n\u001b[0;32m----> 2\u001b[0m route_traffic \u001b[38;5;241m=\u001b[39m df\u001b[38;5;241m.\u001b[39mgroupby(\u001b[38;5;124m'\u001b[39m\u001b[38;5;124mRoute\u001b[39m\u001b[38;5;124m'\u001b[39m)[\u001b[38;5;124m'\u001b[39m\u001b[38;5;124mPassengers_Total\u001b[39m\u001b[38;5;124m'\u001b[39m]\u001b[38;5;241m.\u001b[39msum()\u001b[38;5;241m.\u001b[39msort_values(ascending\u001b[38;5;241m=\u001b[39m\u001b[38;5;28;01mFalse\u001b[39;00m)\n\u001b[1;32m      4\u001b[0m \u001b[38;5;66;03m# Top and bottom 10 routes\u001b[39;00m\n\u001b[1;32m      5\u001b[0m top_routes \u001b[38;5;241m=\u001b[39m route_traffic\u001b[38;5;241m.\u001b[39mhead(\u001b[38;5;241m10\u001b[39m)\n",
      "\u001b[0;31mNameError\u001b[0m: name 'df' is not defined"
     ]
    }
   ],
   "source": [
    "# Total passenger traffic by route\n",
    "route_traffic = data.groupby('Route')['Passengers_Total'].sum().sort_values(ascending=False)\n",
    "\n",
    "# Top and bottom 10 routes\n",
    "top_routes = route_traffic.head(10)\n",
    "bottom_routes = route_traffic.tail(10)\n",
    "\n",
    "print(\"Top 10 Routes:\\n\", top_routes)\n",
    "print(\"\\nBottom 10 Routes:\\n\", bottom_routes)\n",
    "\n",
    "# Plotting\n",
    "plt.figure(figsize=(12,5))\n",
    "sns.barplot(x=top_routes.values, y=top_routes.index, palette='viridis')\n",
    "plt.title(\"Top 10 Highest Trafficked Routes\")\n",
    "plt.xlabel(\"Total Passengers\")\n",
    "plt.ylabel(\"Route\")\n",
    "plt.show()\n"
   ]
  },
  {
   "cell_type": "code",
   "execution_count": null,
   "id": "113de8c1",
   "metadata": {},
   "outputs": [],
   "source": []
  }
 ],
 "metadata": {
  "kernelspec": {
   "display_name": "base",
   "language": "python",
   "name": "python3"
  },
  "language_info": {
   "codemirror_mode": {
    "name": "ipython",
    "version": 3
   },
   "file_extension": ".py",
   "mimetype": "text/x-python",
   "name": "python",
   "nbconvert_exporter": "python",
   "pygments_lexer": "ipython3",
   "version": "3.12.4"
  }
 },
 "nbformat": 4,
 "nbformat_minor": 5
}
